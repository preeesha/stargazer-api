{
 "cells": [
  {
   "cell_type": "code",
   "execution_count": 16,
   "metadata": {},
   "outputs": [],
   "source": [
    "from pymongo import MongoClient\n",
    "import numpy as np\n",
    "from sklearn.cluster import KMeans\n",
    "from joblib import dump\n",
    "\n",
    "\n",
    "CONNECTION_STRING = \"mongodb://localhost:27017\"\n",
    "client = MongoClient(CONNECTION_STRING)\n",
    "db = client[\"florence\"]\n",
    "collection = db[\"products\"]"
   ]
  },
  {
   "cell_type": "markdown",
   "metadata": {},
   "source": [
    "### Fetching data"
   ]
  },
  {
   "cell_type": "code",
   "execution_count": 17,
   "metadata": {},
   "outputs": [],
   "source": [
    "p = collection.find({})\n",
    "data = []\n",
    "for doc in p:\n",
    "    d = {}\n",
    "    d[\"id\"] = doc[\"id\"]\n",
    "    d[\"fragnance\"] = doc[\"fragnance\"]\n",
    "    d[\"colors\"] = {\n",
    "        key: round(value, 2) if isinstance(value, float) else value\n",
    "        for key, value in doc[\"colors\"].items()\n",
    "    }\n",
    "    data.append(d)\n",
    "\n",
    "all_products = list(\n",
    "    map(\n",
    "        lambda x: {\n",
    "            \"id\": x[\"id\"],\n",
    "            \"fragnance\": x[\"fragnance\"],\n",
    "            \"colors\": {k: v for k, v in x[\"colors\"].items() if k != \"Undefined\"},\n",
    "        },\n",
    "        data,\n",
    "    )\n",
    ")"
   ]
  },
  {
   "cell_type": "markdown",
   "metadata": {},
   "source": [
    "### Labels"
   ]
  },
  {
   "cell_type": "code",
   "execution_count": 18,
   "metadata": {},
   "outputs": [],
   "source": [
    "ALL_FRAGRANCES = [\"floral\", \"rosy\", \"orchid\", \"lilies\"]\n",
    "COLORS_LIST = [\n",
    "    \"Orange\",\n",
    "    \"Yellow-Orange\",\n",
    "    \"Red\",\n",
    "    \"Red-Orange\",\n",
    "    \"Yellow\",\n",
    "    \"Yellow-Green\",\n",
    "    \"Undefined\",\n",
    "    \"Magenta\",\n",
    "    \"Green\",\n",
    "    \"Purple-Magenta\",\n",
    "    \"Purple\",\n",
    "    \"Pink\",\n",
    "    \"Grayish Purple\",\n",
    "    \"Cyan\",\n",
    "    \"Light Pink\",\n",
    "    \"Red-Magenta\",\n",
    "    \"Pale Pink\",\n",
    "    \"Blue\",\n",
    "    \"Blue-Cyan\",\n",
    "]"
   ]
  },
  {
   "cell_type": "markdown",
   "metadata": {},
   "source": [
    "### Preparing data points"
   ]
  },
  {
   "cell_type": "code",
   "execution_count": 19,
   "metadata": {},
   "outputs": [
    {
     "data": {
      "text/plain": [
       "array([[0.3 , 0.12, 0.43, ..., 1.  , 0.  , 0.  ],\n",
       "       [0.29, 0.  , 0.4 , ..., 1.  , 0.  , 0.  ],\n",
       "       [0.  , 0.  , 0.84, ..., 1.  , 0.  , 0.  ],\n",
       "       ...,\n",
       "       [0.11, 0.44, 0.  , ..., 0.  , 0.  , 0.  ],\n",
       "       [0.37, 0.3 , 0.  , ..., 1.  , 0.  , 0.  ],\n",
       "       [0.31, 0.1 , 0.29, ..., 0.  , 0.  , 0.  ]])"
      ]
     },
     "execution_count": 19,
     "metadata": {},
     "output_type": "execute_result"
    }
   ],
   "source": [
    "# Create feature vectors for clustering\n",
    "X = []\n",
    "for product in all_products:\n",
    "    color_vector = [\n",
    "        product[\"colors\"][colour] if colour in product[\"colors\"] else 0\n",
    "        for colour in COLORS_LIST\n",
    "    ]\n",
    "    frag_vector = [1 if frag in product[\"fragnance\"] else 0 for frag in ALL_FRAGRANCES]\n",
    "    feature_vector = color_vector + frag_vector\n",
    "    feature_vector = [float(val) for val in feature_vector]\n",
    "    X.append(feature_vector)\n",
    "X = np.array(X)\n",
    "X"
   ]
  },
  {
   "cell_type": "markdown",
   "metadata": {},
   "source": [
    "### Model training process"
   ]
  },
  {
   "cell_type": "code",
   "execution_count": 20,
   "metadata": {},
   "outputs": [
    {
     "name": "stderr",
     "output_type": "stream",
     "text": [
      "c:\\Users\\prisha gupta\\AppData\\Local\\Programs\\Python\\Python310\\lib\\site-packages\\sklearn\\cluster\\_kmeans.py:870: FutureWarning: The default value of `n_init` will change from 10 to 'auto' in 1.4. Set the value of `n_init` explicitly to suppress the warning\n",
      "  warnings.warn(\n"
     ]
    },
    {
     "data": {
      "text/plain": [
       "['model.bird']"
      ]
     },
     "execution_count": 20,
     "metadata": {},
     "output_type": "execute_result"
    }
   ],
   "source": [
    "num_clusters = 7\n",
    "kmeans = KMeans(n_clusters=num_clusters, random_state=42)\n",
    "kmeans.fit(X)\n",
    "\n",
    "dump(kmeans, \"model.bird\")"
   ]
  }
 ],
 "metadata": {
  "kernelspec": {
   "display_name": "Python 3",
   "language": "python",
   "name": "python3"
  },
  "language_info": {
   "codemirror_mode": {
    "name": "ipython",
    "version": 3
   },
   "file_extension": ".py",
   "mimetype": "text/x-python",
   "name": "python",
   "nbconvert_exporter": "python",
   "pygments_lexer": "ipython3",
   "version": "3.10.10"
  }
 },
 "nbformat": 4,
 "nbformat_minor": 2
}
